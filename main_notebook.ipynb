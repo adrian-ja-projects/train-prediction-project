{
  "nbformat": 4,
  "nbformat_minor": 0,
  "metadata": {
    "colab": {
      "name": "main_notebook.ipynb",
      "provenance": [],
      "authorship_tag": "ABX9TyMuvigSj3bMNGUdcAra0eVz",
      "include_colab_link": true
    },
    "kernelspec": {
      "name": "python3",
      "display_name": "Python 3"
    },
    "language_info": {
      "name": "python"
    }
  },
  "cells": [
    {
      "cell_type": "markdown",
      "metadata": {
        "id": "view-in-github",
        "colab_type": "text"
      },
      "source": [
        "<a href=\"https://colab.research.google.com/github/adrian-ja-projects/train-prediction-project/blob/fea_main_notebook/main_notebook.ipynb\" target=\"_parent\"><img src=\"https://colab.research.google.com/assets/colab-badge.svg\" alt=\"Open In Colab\"/></a>"
      ]
    },
    {
      "cell_type": "markdown",
      "metadata": {
        "id": "M9Kh91DPR-uY"
      },
      "source": [
        "prepare all for the data analysis\n",
        "1. Clone git\n",
        "2. Extract data\n",
        "3. Write into RAw\n",
        "4. Transform for data analysis"
      ]
    },
    {
      "cell_type": "code",
      "metadata": {
        "colab": {
          "base_uri": "https://localhost:8080/"
        },
        "id": "-2OJAq8ARv9n",
        "outputId": "4ba979b0-6250-466d-9bfd-9820aff55ee0"
      },
      "source": [
        "%run /content/train-prediction-project/pl_extraction_api_to_staging.ipynb"
      ],
      "execution_count": null,
      "outputs": [
        {
          "output_type": "stream",
          "name": "stdout",
          "text": [
            "INFO: Creating list for extraction loop...\n",
            "INFO: Extraction dates are between 2020-01-01 and 2020-04-09\n",
            "INFO: Starting extraction...\n",
            "INFO: Extraction completed a total of 100 file were successfully extracted into the staging area\n"
          ]
        }
      ]
    },
    {
      "cell_type": "code",
      "metadata": {
        "colab": {
          "base_uri": "https://localhost:8080/"
        },
        "id": "1yY0yX4ARxWl",
        "outputId": "e0ea12ed-89bb-49f8-c39a-5557c23e00dd"
      },
      "source": [
        "%run /content/train-prediction-project/spark_dependencies.ipynb"
      ],
      "execution_count": null,
      "outputs": [
        {
          "output_type": "stream",
          "name": "stdout",
          "text": [
            "INFO: Installing Spark dependencies...\n",
            "INFO: Spark dependencies installed\n",
            "INFO: env variables created\n"
          ]
        }
      ]
    },
    {
      "cell_type": "code",
      "metadata": {
        "colab": {
          "base_uri": "https://localhost:8080/"
        },
        "id": "4Q0pBePORzDm",
        "outputId": "3c952b67-3e53-4e26-b4c3-9ceefc0070a8"
      },
      "source": [
        "%run /content/train-prediction-project/pl_transf_staging_to_raw.ipynb"
      ],
      "execution_count": null,
      "outputs": [
        {
          "output_type": "stream",
          "name": "stdout",
          "text": [
            "INFO: Starting transformation of json files...\n"
          ]
        }
      ]
    },
    {
      "cell_type": "code",
      "metadata": {
        "id": "RP_s-3b9R09-",
        "colab": {
          "base_uri": "https://localhost:8080/"
        },
        "outputId": "a2b24fef-42d3-4aad-87b6-6a4478cfce88"
      },
      "source": [
        "%run /content/train-prediction-project/pl_raw_to_uc_train_prediction.ipynb"
      ],
      "execution_count": 6,
      "outputs": [
        {
          "output_type": "stream",
          "name": "stdout",
          "text": [
            "INFO: table 27_travel_duration has been overwriten on the path /content/uc_train_prediction/27_travel_duration. Table ready for analysis\n"
          ]
        }
      ]
    }
  ]
}