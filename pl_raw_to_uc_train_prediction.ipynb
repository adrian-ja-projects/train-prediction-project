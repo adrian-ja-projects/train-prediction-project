{
  "nbformat": 4,
  "nbformat_minor": 0,
  "metadata": {
    "colab": {
      "name": "data_analysis_train_prediction.ipynb",
      "provenance": [],
      "authorship_tag": "ABX9TyPEMP7wUtH/mVmPxX7fDQoH",
      "include_colab_link": true
    },
    "kernelspec": {
      "name": "python3",
      "display_name": "Python 3"
    },
    "language_info": {
      "name": "python"
    }
  },
  "cells": [
    {
      "cell_type": "markdown",
      "metadata": {
        "id": "view-in-github",
        "colab_type": "text"
      },
      "source": [
        "<a href=\"https://colab.research.google.com/github/adrian-ja-projects/train-prediction-project/blob/fea_data_analisys/pl_raw_to_uc_train_prediction.ipynb\" target=\"_parent\"><img src=\"https://colab.research.google.com/assets/colab-badge.svg\" alt=\"Open In Colab\"/></a>"
      ]
    },
    {
      "cell_type": "code",
      "metadata": {
        "id": "rfhBH9EQZU3L"
      },
      "source": [
        "from pyspark.sql import functions as F\n",
        "from pyspark.sql.types import TimestampType\n",
        "from pyspark.sql import Window"
      ],
      "execution_count": null,
      "outputs": []
    },
    {
      "cell_type": "code",
      "metadata": {
        "id": "dNl6q5iQzdJd"
      },
      "source": [
        "#create spark session\n",
        "spark = SparkSession.builder\\\n",
        "        .master(\"local\")\\\n",
        "        .appName(\"pl_data_analysis\")\\\n",
        "        .config('spark.ui.port', '4050')\\\n",
        "        .getOrCreate()"
      ],
      "execution_count": null,
      "outputs": []
    },
    {
      "cell_type": "code",
      "metadata": {
        "id": "3oMnB-r30EEk"
      },
      "source": [
        "raw_file_path = \"/content/raw/digitraffic/27_schedule\"\n",
        "df_27_schedule = spark.read.format(\"parquet\").load(raw_file_path)"
      ],
      "execution_count": null,
      "outputs": []
    },
    {
      "cell_type": "code",
      "metadata": {
        "id": "ohL_qRGxY7dL"
      },
      "source": [
        "dateWindow = Window.partitionBy(\"departureDate\").orderBy(\"actualTime\")\n",
        "dfTrainAvgTime = (df_27_schedule\n",
        " #First as best practice filter out data out of scope for the use case\n",
        " .select(\"trainNumber\",\"departureDate\",\"stationShortCode\", \"actualTime\")\n",
        " .where(((F.col(\"stationShortCode\").isin([\"HKI\"]))&(F.col(\"type\")==\"DEPARTURE\"))\n",
        "        | ((F.col(\"stationShortCode\").isin([\"TPE\"]))&(F.col(\"type\")==\"ARRIVAL\")))\n",
        " #Transform data and get average travel duration time in minutes\n",
        " .withColumn(\"actualTime\", \n",
        "             F.col(\"actualTime\").cast(TimestampType()))\n",
        " .withColumn(\"travelDurationMinutes\", (F.unix_timestamp(F.col(\"actualTime\")) - F.unix_timestamp(F.lag(F.col(\"actualTime\"), 1)\n",
        "                                       .over(dateWindow)))/60)\n",
        " .where(F.col(\"stationShortCode\")==\"TPE\")\n",
        ")"
      ],
      "execution_count": null,
      "outputs": []
    },
    {
      "cell_type": "code",
      "metadata": {
        "id": "i4cEq-83OAY_"
      },
      "source": [
        "write_mode = \"overwrite\"\n",
        "table_path = \"/content/uc_train_prediction/27_travel_duration\"\n",
        "table_name = \"27_travel_duration\"\n",
        "if overwrite:\n",
        "  dfTrainAvgTime.repartition(1).write.mode(write_mode).save(table_path)\n",
        "  print(f\"INFO: table {table_name} has been overwriten on the path {table_path}. Table ready for analysis\")\n",
        "elif append:\n",
        "  dfTrainAvgTime.repartition(1).write.mode(write_mode).save(table_path)\n",
        "  print(f\"INFO: new data has been appended on the table {table_name} with the path {table_path}. Table ready for analysis\")"
      ],
      "execution_count": null,
      "outputs": []
    },
    {
      "cell_type": "code",
      "metadata": {
        "id": "BERLnTUQRShf"
      },
      "source": [
        "spark.stop()"
      ],
      "execution_count": null,
      "outputs": []
    }
  ]
}