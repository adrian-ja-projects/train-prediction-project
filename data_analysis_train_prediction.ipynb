{
  "nbformat": 4,
  "nbformat_minor": 0,
  "metadata": {
    "colab": {
      "name": "data_analysis_train_prediction.ipynb",
      "provenance": [],
      "authorship_tag": "ABX9TyMZtO1tlj38gwYPOtN7s7yF",
      "include_colab_link": true
    },
    "kernelspec": {
      "name": "python3",
      "display_name": "Python 3"
    },
    "language_info": {
      "name": "python"
    },
    "accelerator": "GPU"
  },
  "cells": [
    {
      "cell_type": "markdown",
      "metadata": {
        "id": "view-in-github",
        "colab_type": "text"
      },
      "source": [
        "<a href=\"https://colab.research.google.com/github/adrian-ja-projects/train-prediction-project/blob/fea_data_analisys/data_analysis_train_prediction.ipynb\" target=\"_parent\"><img src=\"https://colab.research.google.com/assets/colab-badge.svg\" alt=\"Open In Colab\"/></a>"
      ]
    },
    {
      "cell_type": "code",
      "metadata": {
        "colab": {
          "base_uri": "https://localhost:8080/"
        },
        "id": "rwZFZDZDsbl-",
        "outputId": "6c2f2331-9842-4a7b-8d74-2bba18173513"
      },
      "source": [
        "!git clone https://github.com/adrian-ja-projects/train-prediction-project.git"
      ],
      "execution_count": 1,
      "outputs": [
        {
          "output_type": "stream",
          "name": "stdout",
          "text": [
            "Cloning into 'train-prediction-project'...\n",
            "remote: Enumerating objects: 41, done.\u001b[K\n",
            "remote: Counting objects: 100% (41/41), done.\u001b[K\n",
            "remote: Compressing objects: 100% (39/39), done.\u001b[K\n",
            "remote: Total 41 (delta 25), reused 0 (delta 0), pack-reused 0\u001b[K\n",
            "Unpacking objects: 100% (41/41), done.\n"
          ]
        }
      ]
    },
    {
      "cell_type": "code",
      "metadata": {
        "colab": {
          "base_uri": "https://localhost:8080/"
        },
        "id": "xGt-oRBds_dK",
        "outputId": "0d0298f2-161f-4afd-c945-c6a4e25bf72d"
      },
      "source": [
        "%run /content/train-prediction-project/pl_extraction_api_to_staging.ipynb"
      ],
      "execution_count": 2,
      "outputs": [
        {
          "output_type": "stream",
          "name": "stdout",
          "text": [
            "INFO: Creating list for extraction loop...\n",
            "INFO: Extraction dates are between 2021-01-01 and 2021-04-10\n",
            "INFO: Starting extraction...\n",
            "INFO: Extraction completed a total of 100 file were successfully extracted into the staging area\n"
          ]
        }
      ]
    },
    {
      "cell_type": "code",
      "metadata": {
        "colab": {
          "base_uri": "https://localhost:8080/"
        },
        "id": "JIJQeBfVtFJT",
        "outputId": "0218d578-32ef-4a4e-dafd-740e31b61754"
      },
      "source": [
        "%run /content/train-prediction-project/spark_dependencies.ipynb"
      ],
      "execution_count": 3,
      "outputs": [
        {
          "output_type": "stream",
          "name": "stdout",
          "text": [
            "INFO: Installing Spark dependencies...\n",
            "INFO: Spark dependencies installed\n",
            "INFO: env variables created\n"
          ]
        }
      ]
    },
    {
      "cell_type": "code",
      "metadata": {
        "colab": {
          "base_uri": "https://localhost:8080/"
        },
        "id": "8sXbDu3kuVeI",
        "outputId": "56428b95-a223-482d-bc8f-8c860abfb4fb"
      },
      "source": [
        "%run /content/train-prediction-project/pl_transf_staging_to_raw.ipynb"
      ],
      "execution_count": 4,
      "outputs": [
        {
          "output_type": "stream",
          "name": "stdout",
          "text": [
            "WARNING: /content/staging/digitraffic/stg_27_schedule/2021-02/2021-02-03/stg_27_schedule.json file doesn't contain data\n",
            "WARNING: /content/staging/digitraffic/stg_27_schedule/2021-02/2021-02-02/stg_27_schedule.json file doesn't contain data\n",
            "WARNING: /content/staging/digitraffic/stg_27_schedule/2021-02/2021-02-10/stg_27_schedule.json file doesn't contain data\n",
            "WARNING: /content/staging/digitraffic/stg_27_schedule/2021-02/2021-02-23/stg_27_schedule.json file doesn't contain data\n",
            "WARNING: /content/staging/digitraffic/stg_27_schedule/2021-02/2021-02-17/stg_27_schedule.json file doesn't contain data\n",
            "WARNING: /content/staging/digitraffic/stg_27_schedule/2021-02/2021-02-15/stg_27_schedule.json file doesn't contain data\n",
            "WARNING: /content/staging/digitraffic/stg_27_schedule/2021-02/2021-02-22/stg_27_schedule.json file doesn't contain data\n",
            "WARNING: /content/staging/digitraffic/stg_27_schedule/2021-02/2021-02-24/stg_27_schedule.json file doesn't contain data\n",
            "WARNING: /content/staging/digitraffic/stg_27_schedule/2021-02/2021-02-09/stg_27_schedule.json file doesn't contain data\n",
            "WARNING: /content/staging/digitraffic/stg_27_schedule/2021-02/2021-02-16/stg_27_schedule.json file doesn't contain data\n",
            "WARNING: /content/staging/digitraffic/stg_27_schedule/2021-01/2021-01-27/stg_27_schedule.json file doesn't contain data\n",
            "WARNING: /content/staging/digitraffic/stg_27_schedule/2021-01/2021-01-12/stg_27_schedule.json file doesn't contain data\n",
            "WARNING: /content/staging/digitraffic/stg_27_schedule/2021-01/2021-01-20/stg_27_schedule.json file doesn't contain data\n",
            "WARNING: /content/staging/digitraffic/stg_27_schedule/2021-01/2021-01-26/stg_27_schedule.json file doesn't contain data\n",
            "WARNING: /content/staging/digitraffic/stg_27_schedule/2021-01/2021-01-19/stg_27_schedule.json file doesn't contain data\n",
            "WARNING: /content/staging/digitraffic/stg_27_schedule/2021-01/2021-01-13/stg_27_schedule.json file doesn't contain data\n",
            "WARNING: /content/staging/digitraffic/stg_27_schedule/2021-01/2021-01-11/stg_27_schedule.json file doesn't contain data\n",
            "WARNING: /content/staging/digitraffic/stg_27_schedule/2021-03/2021-03-31/stg_27_schedule.json file doesn't contain data\n",
            "WARNING: /content/staging/digitraffic/stg_27_schedule/2021-03/2021-03-15/stg_27_schedule.json file doesn't contain data\n",
            "WARNING: /content/staging/digitraffic/stg_27_schedule/2021-03/2021-03-24/stg_27_schedule.json file doesn't contain data\n",
            "WARNING: /content/staging/digitraffic/stg_27_schedule/2021-03/2021-03-09/stg_27_schedule.json file doesn't contain data\n",
            "WARNING: /content/staging/digitraffic/stg_27_schedule/2021-03/2021-03-01/stg_27_schedule.json file doesn't contain data\n",
            "WARNING: /content/staging/digitraffic/stg_27_schedule/2021-03/2021-03-30/stg_27_schedule.json file doesn't contain data\n",
            "WARNING: /content/staging/digitraffic/stg_27_schedule/2021-03/2021-03-16/stg_27_schedule.json file doesn't contain data\n",
            "WARNING: /content/staging/digitraffic/stg_27_schedule/2021-03/2021-03-10/stg_27_schedule.json file doesn't contain data\n",
            "WARNING: /content/staging/digitraffic/stg_27_schedule/2021-03/2021-03-02/stg_27_schedule.json file doesn't contain data\n",
            "WARNING: /content/staging/digitraffic/stg_27_schedule/2021-03/2021-03-17/stg_27_schedule.json file doesn't contain data\n",
            "WARNING: /content/staging/digitraffic/stg_27_schedule/2021-03/2021-03-29/stg_27_schedule.json file doesn't contain data\n",
            "WARNING: /content/staging/digitraffic/stg_27_schedule/2021-03/2021-03-23/stg_27_schedule.json file doesn't contain data\n",
            "WARNING: /content/staging/digitraffic/stg_27_schedule/2021-03/2021-03-03/stg_27_schedule.json file doesn't contain data\n",
            "WARNING: /content/staging/digitraffic/stg_27_schedule/2021-04/2021-04-07/stg_27_schedule.json file doesn't contain data\n",
            "WARNING: /content/staging/digitraffic/stg_27_schedule/2021-04/2021-04-06/stg_27_schedule.json file doesn't contain data\n",
            "Data in raw ready to upload to a db\n"
          ]
        }
      ]
    },
    {
      "cell_type": "code",
      "metadata": {
        "id": "dNl6q5iQzdJd"
      },
      "source": [
        "#create spark session\n",
        "spark = SparkSession.builder\\\n",
        "        .master(\"local\")\\\n",
        "        .appName(\"pl_data_analysis\")\\\n",
        "        .config('spark.ui.port', '4050')\\\n",
        "        .getOrCreate()"
      ],
      "execution_count": 5,
      "outputs": []
    },
    {
      "cell_type": "code",
      "metadata": {
        "id": "3oMnB-r30EEk"
      },
      "source": [
        "raw_file_path = \"/content/raw/digitraffic/27_schedule\"\n",
        "df_27_schedule = spark.read.format(\"parquet\").load(raw_file_path)"
      ],
      "execution_count": 9,
      "outputs": []
    },
    {
      "cell_type": "code",
      "metadata": {
        "colab": {
          "base_uri": "https://localhost:8080/"
        },
        "id": "wHjLuC_L0N7j",
        "outputId": "12c2ae0e-f811-4b79-bd71-147f78cb4b56"
      },
      "source": [
        "#get average of the file\n",
        "df_27_schedule.show()"
      ],
      "execution_count": 8,
      "outputs": [
        {
          "output_type": "stream",
          "name": "stdout",
          "text": [
            "+---------+--------------+-------------+-----------------+---------------+----------------+--------------------+-----------------------+------------+--------------+--------------------+----------------------+-----------------+-------------------+--------------+---------------+-----------+-------------------+---------------+--------------------+--------------------+----------------+--------------+--------+------+--------------------+-------------+---------+-----------------------+-------------+-------------+-----------+---------+------------+\n",
            "|cancelled|commuterLineID|departureDate|operatorShortCode|operatorUICCode|runningCurrently|          actualTime|timeTableRows>cancelled|categoryCode|categoryCodeId|detailedCategoryCode|detailedCategoryCodeId|thirdCategoryCode|thirdCategoryCodeId|commercialStop|commercialTrack|countryCode|differenceInMinutes| estimateSource|    liveEstimateTime|       scheduledTime|stationShortCode|stationUICCode|accepted|source|           timestamp|trainStopping|     type|timetableAcceptanceDate|timetableType|trainCategory|trainNumber|trainType|     version|\n",
            "+---------+--------------+-------------+-----------------+---------------+----------------+--------------------+-----------------------+------------+--------------+--------------------+----------------------+-----------------+-------------------+--------------+---------------+-----------+-------------------+---------------+--------------------+--------------------+----------------+--------------+--------+------+--------------------+-------------+---------+-----------------------+-------------+-------------+-----------+---------+------------+\n",
            "|    false|              |   2021-01-29|               vr|             10|           false|2021-01-29T12:24:...|                  false|        null|          null|                null|                  null|             null|               null|          true|             11|         FI|                  0|           null|                null|2021-01-29T12:24:...|             HKI|             1|    true| KUPLA|2021-01-29T12:06:...|         true|DEPARTURE|   2020-11-06T10:17:...|      REGULAR|Long-distance|         27|       IC|276838142760|\n",
            "|    false|              |   2021-01-29|               vr|             10|           false|2021-01-29T12:29:...|                  false|        null|          null|                null|                  null|             null|               null|          true|              3|         FI|                  0|           null|                null|2021-01-29T12:29:...|             PSL|            10|    null|  null|                null|         true|  ARRIVAL|   2020-11-06T10:17:...|      REGULAR|Long-distance|         27|       IC|276838142760|\n",
            "|    false|              |   2021-01-29|               vr|             10|           false|2021-01-29T12:31:...|                  false|        null|          null|                null|                  null|             null|               null|          true|              3|         FI|                  1|           null|                null|2021-01-29T12:30:...|             PSL|            10|    null|  null|                null|         true|DEPARTURE|   2020-11-06T10:17:...|      REGULAR|Long-distance|         27|       IC|276838142760|\n",
            "|    false|              |   2021-01-29|               vr|             10|           false|2021-01-29T12:34:...|                  false|        null|          null|                null|                  null|             null|               null|          null|               |         FI|                  3|           null|                null|2021-01-29T12:32:...|             KÄP|           977|    null|  null|                null|        false|  ARRIVAL|   2020-11-06T10:17:...|      REGULAR|Long-distance|         27|       IC|276838142760|\n",
            "|    false|              |   2021-01-29|               vr|             10|           false|2021-01-29T12:34:...|                  false|        null|          null|                null|                  null|             null|               null|          null|               |         FI|                  3|           null|                null|2021-01-29T12:32:...|             KÄP|           977|    null|  null|                null|        false|DEPARTURE|   2020-11-06T10:17:...|      REGULAR|Long-distance|         27|       IC|276838142760|\n",
            "|    false|              |   2021-01-29|               vr|             10|           false|2021-01-29T12:37:...|                  false|        null|          null|                null|                  null|             null|               null|          null|               |         FI|                  4|           null|                null|2021-01-29T12:33:...|             OLK|            15|    null|  null|                null|        false|  ARRIVAL|   2020-11-06T10:17:...|      REGULAR|Long-distance|         27|       IC|276838142760|\n",
            "|    false|              |   2021-01-29|               vr|             10|           false|2021-01-29T12:38:...|                  false|        null|          null|                null|                  null|             null|               null|          null|               |         FI|                  5|           null|                null|2021-01-29T12:33:...|             OLK|            15|    null|  null|                null|        false|DEPARTURE|   2020-11-06T10:17:...|      REGULAR|Long-distance|         27|       IC|276838142760|\n",
            "|    false|              |   2021-01-29|               vr|             10|           false|2021-01-29T12:41:...|                  false|        null|          null|                null|                  null|             null|               null|          null|               |         FI|                  8|           null|                null|2021-01-29T12:34:...|             PMK|           551|    null|  null|                null|        false|  ARRIVAL|   2020-11-06T10:17:...|      REGULAR|Long-distance|         27|       IC|276838142760|\n",
            "|    false|              |   2021-01-29|               vr|             10|           false|2021-01-29T12:42:...|                  false|        null|          null|                null|                  null|             null|               null|          null|               |         FI|                  9|           null|                null|2021-01-29T12:34:...|             PMK|           551|    null|  null|                null|        false|DEPARTURE|   2020-11-06T10:17:...|      REGULAR|Long-distance|         27|       IC|276838142760|\n",
            "|    false|              |   2021-01-29|               vr|             10|           false|2021-01-29T12:46:...|                  false|        null|          null|                null|                  null|             null|               null|          null|               |         FI|                 11|           null|                null|2021-01-29T12:35:...|              ML|            17|    null|  null|                null|        false|  ARRIVAL|   2020-11-06T10:17:...|      REGULAR|Long-distance|         27|       IC|276838142760|\n",
            "|    false|              |   2021-01-29|               vr|             10|           false|2021-01-29T12:46:...|                  false|        null|          null|                null|                  null|             null|               null|          null|               |         FI|                 12|           null|                null|2021-01-29T12:35:...|              ML|            17|    null|  null|                null|        false|DEPARTURE|   2020-11-06T10:17:...|      REGULAR|Long-distance|         27|       IC|276838142760|\n",
            "|    false|              |   2021-01-29|               vr|             10|           false|2021-01-29T12:48:...|                  false|        null|          null|                null|                  null|             null|               null|          null|               |         FI|                 12|           null|                null|2021-01-29T12:36:...|             TNA|           552|    null|  null|                null|        false|  ARRIVAL|   2020-11-06T10:17:...|      REGULAR|Long-distance|         27|       IC|276838142760|\n",
            "|    false|              |   2021-01-29|               vr|             10|           false|2021-01-29T12:49:...|                  false|        null|          null|                null|                  null|             null|               null|          null|               |         FI|                 13|           null|                null|2021-01-29T12:36:...|             TNA|           552|    null|  null|                null|        false|DEPARTURE|   2020-11-06T10:17:...|      REGULAR|Long-distance|         27|       IC|276838142760|\n",
            "|    false|              |   2021-01-29|               vr|             10|           false|2021-01-29T12:51:...|                  false|        null|          null|                null|                  null|             null|               null|          null|               |         FI|                 14|           null|                null|2021-01-29T12:37:...|             PLA|           553|    null|  null|                null|        false|  ARRIVAL|   2020-11-06T10:17:...|      REGULAR|Long-distance|         27|       IC|276838142760|\n",
            "|    false|              |   2021-01-29|               vr|             10|           false|2021-01-29T12:51:...|                  false|        null|          null|                null|                  null|             null|               null|          null|               |         FI|                 14|           null|                null|2021-01-29T12:37:...|             PLA|           553|    null|  null|                null|        false|DEPARTURE|   2020-11-06T10:17:...|      REGULAR|Long-distance|         27|       IC|276838142760|\n",
            "|    false|              |   2021-01-29|               vr|             10|           false|2021-01-29T12:58:...|                  false|           S|            29|                  S2|                   156|             S201|                299|          true|              2|         FI|                 20|           null|                null|2021-01-29T12:39:...|             TKL|            18|    null|  null|                null|         true|  ARRIVAL|   2020-11-06T10:17:...|      REGULAR|Long-distance|         27|       IC|276838142760|\n",
            "|    false|              |   2021-01-29|               vr|             10|           false|2021-01-29T13:01:...|                  false|        null|          null|                null|                  null|             null|               null|          true|              2|         FI|                 20|           null|                null|2021-01-29T12:41:...|             TKL|            18|    null|  null|                null|         true|DEPARTURE|   2020-11-06T10:17:...|      REGULAR|Long-distance|         27|       IC|276838142760|\n",
            "|    false|              |   2021-01-29|               vr|             10|           false|2021-01-29T13:03:...|                  false|        null|          null|                null|                  null|             null|               null|          null|               |         FI|                 21|           null|                null|2021-01-29T12:42:...|             HKH|           556|    null|  null|                null|        false|  ARRIVAL|   2020-11-06T10:17:...|      REGULAR|Long-distance|         27|       IC|276838142760|\n",
            "|    false|              |   2021-01-29|               vr|             10|           false|2021-01-29T13:03:...|                  false|        null|          null|                null|                  null|             null|               null|          null|               |         FI|                 21|           null|                null|2021-01-29T12:42:...|             HKH|           556|    null|  null|                null|        false|DEPARTURE|   2020-11-06T10:17:...|      REGULAR|Long-distance|         27|       IC|276838142760|\n",
            "|    false|              |   2021-01-29|               vr|             10|           false|                null|                  false|        null|          null|                null|                  null|             null|               null|          null|               |         FI|                 20|LIIKE_AUTOMATIC|2021-01-29T13:03:...|2021-01-29T12:43:...|             HVK|          1334|    null|  null|                null|        false|  ARRIVAL|   2020-11-06T10:17:...|      REGULAR|Long-distance|         27|       IC|276838142760|\n",
            "+---------+--------------+-------------+-----------------+---------------+----------------+--------------------+-----------------------+------------+--------------+--------------------+----------------------+-----------------+-------------------+--------------+---------------+-----------+-------------------+---------------+--------------------+--------------------+----------------+--------------+--------+------+--------------------+-------------+---------+-----------------------+-------------+-------------+-----------+---------+------------+\n",
            "only showing top 20 rows\n",
            "\n"
          ]
        }
      ]
    }
  ]
}