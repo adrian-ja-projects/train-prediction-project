{
  "nbformat": 4,
  "nbformat_minor": 0,
  "metadata": {
    "colab": {
      "name": "data_analysis_train_prediction.ipynb",
      "provenance": [],
      "authorship_tag": "ABX9TyPtuanUDbDk7dnrkZ2uJXb9",
      "include_colab_link": true
    },
    "kernelspec": {
      "name": "python3",
      "display_name": "Python 3"
    },
    "language_info": {
      "name": "python"
    }
  },
  "cells": [
    {
      "cell_type": "markdown",
      "metadata": {
        "id": "view-in-github",
        "colab_type": "text"
      },
      "source": [
        "<a href=\"https://colab.research.google.com/github/adrian-ja-projects/train-prediction-project/blob/formatting_data_analysis_notebook/data_analysis_train_prediction.ipynb\" target=\"_parent\"><img src=\"https://colab.research.google.com/assets/colab-badge.svg\" alt=\"Open In Colab\"/></a>"
      ]
    },
    {
      "cell_type": "code",
      "metadata": {
        "id": "rwZFZDZDsbl-"
      },
      "source": [
        "!git clone https://github.com/adrian-ja-projects/train-prediction-project.git"
      ],
      "execution_count": null,
      "outputs": []
    },
    {
      "cell_type": "code",
      "metadata": {
        "id": "rjYVPNE7XpmD"
      },
      "source": [
        "%run /content/train-prediction-project/main_notebook.ipynb"
      ],
      "execution_count": null,
      "outputs": []
    },
    {
      "cell_type": "code",
      "metadata": {
        "id": "rfhBH9EQZU3L"
      },
      "source": [
        "from pyspark.sql import functions as F"
      ],
      "execution_count": 3,
      "outputs": []
    },
    {
      "cell_type": "code",
      "metadata": {
        "id": "dNl6q5iQzdJd"
      },
      "source": [
        "#create spark session\n",
        "spark = SparkSession.builder\\\n",
        "        .master(\"local\")\\\n",
        "        .appName(\"data_analysis\")\\\n",
        "        .config('spark.ui.port', '4050')\\\n",
        "        .getOrCreate()"
      ],
      "execution_count": 4,
      "outputs": []
    },
    {
      "cell_type": "code",
      "metadata": {
        "id": "3oMnB-r30EEk"
      },
      "source": [
        "uc_file_path = \"/content/uc_train_prediction/27_travel_duration/\"\n",
        "df_27_travel_duration = spark.read.format(\"parquet\").load(uc_file_path)"
      ],
      "execution_count": 5,
      "outputs": []
    },
    {
      "cell_type": "code",
      "metadata": {
        "id": "XvV_nQeHY8uA"
      },
      "source": [
        "train_travel_avg_time = df_27_travel_duration.select(F.avg(\"travelDurationMinutes\")).collect()[0][0]"
      ],
      "execution_count": 6,
      "outputs": []
    },
    {
      "cell_type": "code",
      "metadata": {
        "id": "xaZQpN8zZIDC"
      },
      "source": [
        "def calculate_suggesting_departure_time(full_travel_time: int, departing_hour: int, departing_minute: int)-> str:\n",
        "  \"\"\"\n",
        "  Method to calculate the suggested upper limit for the departure time of the IC27 train\n",
        "  \"\"\"\n",
        "  return datetime.timedelta(hours=16, minutes=15) - datetime.timedelta(minutes=full_travel_time)"
      ],
      "execution_count": 7,
      "outputs": []
    },
    {
      "cell_type": "code",
      "metadata": {
        "id": "ZwpeJOUBcSRK"
      },
      "source": [
        "walking_time = 15\n",
        "full_travel_time = train_travel_avg_time + walking_time\n",
        "\n",
        "suggested_departure_time = calculate_suggesting_departure_time(full_travel_time, 16, 15)\n",
        "print(f\"If the IC27 train is scheduled to leave after {suggested_departure_time}, we strongly suggest to take an earlier train\")"
      ],
      "execution_count": null,
      "outputs": []
    }
  ]
}