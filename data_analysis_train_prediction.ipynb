{
  "nbformat": 4,
  "nbformat_minor": 0,
  "metadata": {
    "colab": {
      "name": "data_analysis_train_prediction.ipynb",
      "provenance": [],
      "authorship_tag": "ABX9TyMYHPWecRpdcsTQrenhH9KI",
      "include_colab_link": true
    },
    "kernelspec": {
      "name": "python3",
      "display_name": "Python 3"
    },
    "language_info": {
      "name": "python"
    }
  },
  "cells": [
    {
      "cell_type": "markdown",
      "metadata": {
        "id": "view-in-github",
        "colab_type": "text"
      },
      "source": [
        "<a href=\"https://colab.research.google.com/github/adrian-ja-projects/train-prediction-project/blob/fea_data_analisys/data_analysis_train_prediction.ipynb\" target=\"_parent\"><img src=\"https://colab.research.google.com/assets/colab-badge.svg\" alt=\"Open In Colab\"/></a>"
      ]
    },
    {
      "cell_type": "code",
      "metadata": {
        "colab": {
          "base_uri": "https://localhost:8080/"
        },
        "id": "rwZFZDZDsbl-",
        "outputId": "f87adc2a-b7ca-4a4c-d4f3-7651fd07d699"
      },
      "source": [
        "!git clone https://github.com/adrian-ja-projects/train-prediction-project.git"
      ],
      "execution_count": 1,
      "outputs": [
        {
          "output_type": "stream",
          "name": "stdout",
          "text": [
            "Cloning into 'train-prediction-project'...\n",
            "remote: Enumerating objects: 62, done.\u001b[K\n",
            "remote: Counting objects: 100% (62/62), done.\u001b[K\n",
            "remote: Compressing objects: 100% (60/60), done.\u001b[K\n",
            "remote: Total 62 (delta 41), reused 0 (delta 0), pack-reused 0\u001b[K\n",
            "Unpacking objects: 100% (62/62), done.\n"
          ]
        }
      ]
    },
    {
      "cell_type": "code",
      "metadata": {
        "colab": {
          "base_uri": "https://localhost:8080/"
        },
        "id": "xGt-oRBds_dK",
        "outputId": "2284538e-38c0-4e73-efb3-bcd96462f134"
      },
      "source": [
        "%run /content/train-prediction-project/pl_extraction_api_to_staging.ipynb"
      ],
      "execution_count": 2,
      "outputs": [
        {
          "output_type": "stream",
          "name": "stdout",
          "text": [
            "INFO: Creating list for extraction loop...\n",
            "INFO: Extraction dates are between 2020-01-01 and 2020-04-09\n",
            "INFO: Starting extraction...\n",
            "INFO: Extraction completed a total of 100 file were successfully extracted into the staging area\n"
          ]
        }
      ]
    },
    {
      "cell_type": "code",
      "metadata": {
        "colab": {
          "base_uri": "https://localhost:8080/"
        },
        "id": "JIJQeBfVtFJT",
        "outputId": "5ee5de2c-aa87-4bbd-990b-1acb270c6b77"
      },
      "source": [
        "%run /content/train-prediction-project/spark_dependencies.ipynb"
      ],
      "execution_count": 3,
      "outputs": [
        {
          "output_type": "stream",
          "name": "stdout",
          "text": [
            "INFO: Installing Spark dependencies...\n",
            "INFO: Spark dependencies installed\n",
            "INFO: env variables created\n"
          ]
        }
      ]
    },
    {
      "cell_type": "code",
      "metadata": {
        "colab": {
          "base_uri": "https://localhost:8080/"
        },
        "id": "8sXbDu3kuVeI",
        "outputId": "6eaeceb2-957b-46fb-8b66-6e2bd8d0adda"
      },
      "source": [
        "%run /content/train-prediction-project/pl_transf_staging_to_raw.ipynb"
      ],
      "execution_count": 4,
      "outputs": [
        {
          "output_type": "stream",
          "name": "stdout",
          "text": [
            "INFO: Starting transformation of json files...\n",
            "Data in raw ready to upload to a db\n"
          ]
        }
      ]
    },
    {
      "cell_type": "code",
      "metadata": {
        "id": "rfhBH9EQZU3L"
      },
      "source": [
        "from pyspark.sql import functions as F\n",
        "from pyspark.sql.types import TimestampType\n",
        "from pyspark.sql import Window"
      ],
      "execution_count": 9,
      "outputs": []
    },
    {
      "cell_type": "code",
      "metadata": {
        "id": "dNl6q5iQzdJd"
      },
      "source": [
        "#create spark session\n",
        "spark = SparkSession.builder\\\n",
        "        .master(\"local\")\\\n",
        "        .appName(\"pl_data_analysis\")\\\n",
        "        .config('spark.ui.port', '4050')\\\n",
        "        .getOrCreate()"
      ],
      "execution_count": 10,
      "outputs": []
    },
    {
      "cell_type": "code",
      "metadata": {
        "id": "3oMnB-r30EEk"
      },
      "source": [
        "raw_file_path = \"/content/raw/digitraffic/27_schedule\"\n",
        "df_27_schedule = spark.read.format(\"parquet\").load(raw_file_path)"
      ],
      "execution_count": 11,
      "outputs": []
    },
    {
      "cell_type": "code",
      "metadata": {
        "id": "ohL_qRGxY7dL"
      },
      "source": [
        "dateWindow = Window.partitionBy(\"departureDate\").orderBy(\"actualTime\")\n",
        "dfTrainAvgTime = (df_27_schedule\n",
        " #First as best practice filter out data out of scope for the use case\n",
        " .select(\"trainNumber\",\"departureDate\",\"stationShortCode\", \"actualTime\")\n",
        " .where(((F.col(\"stationShortCode\").isin([\"HKI\"]))&(F.col(\"type\")==\"DEPARTURE\"))\n",
        "        | ((F.col(\"stationShortCode\").isin([\"TPE\"]))&(F.col(\"type\")==\"ARRIVAL\")))\n",
        " #Transform data and get average travel duration time in minutes\n",
        " .withColumn(\"actualTime\", \n",
        "             F.col(\"actualTime\").cast(TimestampType()))\n",
        " .withColumn(\"travelDurationMinutes\", (F.unix_timestamp(F.col(\"actualTime\")) - F.unix_timestamp(F.lag(F.col(\"actualTime\"), 1)\n",
        "                                       .over(dateWindow)))/60)\n",
        " .where(F.col(\"stationShortCode\")==\"TPE\")\n",
        ")"
      ],
      "execution_count": 23,
      "outputs": []
    },
    {
      "cell_type": "code",
      "metadata": {
        "id": "i4cEq-83OAY_",
        "outputId": "fa6e78f9-08e2-44bb-b5cd-49c5cf373d82",
        "colab": {
          "base_uri": "https://localhost:8080/"
        }
      },
      "source": [
        "write_mode = \"overwrite\"\n",
        "table_path = \"/content/uc_train_prediction/27_travel_duration\"\n",
        "table_name = \"27_travel_duration\"\n",
        "if overwrite:\n",
        "  dfTrainAvgTime.repartition(1).write.mode(write_mode).save(table_path)\n",
        "  print(f\"INFO: table {table_name} has been overwriten on the path {table_path}\")\n",
        "elif append:\n",
        "  dfTrainAvgTime.repartition(1).write.mode(write_mode).save(table_path)\n",
        "  print(f\"INFO: new data has been appended on the table {table_name} with the path {table_path}\")"
      ],
      "execution_count": 24,
      "outputs": [
        {
          "output_type": "stream",
          "name": "stdout",
          "text": [
            "INFO: table 27_travel_duration has been overwriten on the path /content/uc_train_prediction/27_travel_duration\n"
          ]
        }
      ]
    }
  ]
}