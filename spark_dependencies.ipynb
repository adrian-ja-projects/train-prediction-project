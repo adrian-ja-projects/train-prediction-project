{
  "nbformat": 4,
  "nbformat_minor": 0,
  "metadata": {
    "colab": {
      "name": "spark_dependencies.ipynb",
      "provenance": [],
      "authorship_tag": "ABX9TyOPBHormNulOYFCIxJ+anyJ",
      "include_colab_link": true
    },
    "kernelspec": {
      "name": "python3",
      "display_name": "Python 3"
    },
    "language_info": {
      "name": "python"
    }
  },
  "cells": [
    {
      "cell_type": "markdown",
      "metadata": {
        "id": "view-in-github",
        "colab_type": "text"
      },
      "source": [
        "<a href=\"https://colab.research.google.com/github/adrian-ja-projects/train-prediction-project/blob/fix_spark_dependency/spark_dependencies.ipynb\" target=\"_parent\"><img src=\"https://colab.research.google.com/assets/colab-badge.svg\" alt=\"Open In Colab\"/></a>"
      ]
    },
    {
      "cell_type": "markdown",
      "metadata": {
        "id": "7FMNa2Bh-UaZ"
      },
      "source": [
        "# Download and install pyspark packages"
      ]
    },
    {
      "cell_type": "code",
      "metadata": {
        "id": "g-DBT9Q2GuNt"
      },
      "source": [
        "def _downloadInstallJDK():\n",
        "  foo = !apt-get install openjdk-8-jdk-headless -qq > /dev/null\n",
        "  foo\n",
        "\n",
        "def _downloadSparkFile():\n",
        "  foo = !wget -q https://dlcdn.apache.org/spark/spark-3.2.0/spark-3.2.0-bin-hadoop3.2.tgz\n",
        "  foo\n",
        "\n",
        "def _runSparkInstallation():\n",
        "  foo = !tar xf /content/spark-3.2.0-bin-hadoop3.2.tgz\n",
        "  foo\n",
        "\n",
        "def _installFindSpark():\n",
        "  foo = !pip install -q findspark\n",
        "  foo\n",
        "\n",
        "def installSparkInstance():\n",
        "  \"\"\"\n",
        "  Method to download and install the spark dependencies\n",
        "  \"\"\"\n",
        "  print(\"INFO: Installing Spark dependencies...\")\n",
        "  _downloadInstallJDK()\n",
        "  _downloadSparkFile()\n",
        "  _runSparkInstallation()\n",
        "  _installFindSpark()\n",
        "  print(\"INFO: Spark dependencies installed\")"
      ],
      "execution_count": null,
      "outputs": []
    },
    {
      "cell_type": "code",
      "metadata": {
        "colab": {
          "base_uri": "https://localhost:8080/"
        },
        "id": "jTjtq71rJhhY",
        "outputId": "3ed3d41c-d503-406d-96e7-07c0d262ab1c"
      },
      "source": [
        "# run the installation\n",
        "installSparkInstance()"
      ],
      "execution_count": null,
      "outputs": [
        {
          "output_type": "stream",
          "name": "stdout",
          "text": [
            "Installing Spark dependencies...\n",
            "Spark dependencies installed\n"
          ]
        }
      ]
    },
    {
      "cell_type": "markdown",
      "metadata": {
        "id": "XxQR3tUEDVL_"
      },
      "source": [
        "# Set Env Variables"
      ]
    },
    {
      "cell_type": "code",
      "metadata": {
        "colab": {
          "base_uri": "https://localhost:8080/"
        },
        "id": "PbsBZeZ5DYKS",
        "outputId": "992e8fa4-36bb-4e3a-8eba-15f72884e54c"
      },
      "source": [
        "import os\n",
        "os.environ[\"JAVA_HOME\"] = \"/usr/lib/jvm/java-8-openjdk-amd64\"\n",
        "os.environ[\"SPARK_HOME\"] = \"/content/spark-3.2.0-bin-hadoop3.2\"\n",
        "print(\"INFO: env variables created\")"
      ],
      "execution_count": null,
      "outputs": [
        {
          "output_type": "stream",
          "name": "stdout",
          "text": [
            "env variables created\n"
          ]
        }
      ]
    },
    {
      "cell_type": "code",
      "metadata": {
        "id": "7FhEZOxcJt2E"
      },
      "source": [
        "import findspark\n",
        "findspark.init()"
      ],
      "execution_count": null,
      "outputs": []
    }
  ]
}